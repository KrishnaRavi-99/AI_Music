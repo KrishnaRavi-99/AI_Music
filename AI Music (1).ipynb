{
 "cells": [
  {
   "cell_type": "markdown",
   "metadata": {},
   "source": [
    "## Installation and Notebook Setup"
   ]
  },
  {
   "cell_type": "code",
   "execution_count": null,
   "metadata": {},
   "outputs": [],
   "source": [
    "!pip install openai"
   ]
  },
  {
   "cell_type": "code",
   "execution_count": null,
   "metadata": {},
   "outputs": [],
   "source": [
    "!pip install jupyterthemes\n",
    "!pip install --upgrade jupyterthemes"
   ]
  },
  {
   "cell_type": "code",
   "execution_count": null,
   "metadata": {},
   "outputs": [],
   "source": [
    "!jt -t monokai -f fira -fs 10 -nf ptsans -nfs 11 -N -kl -cursw 2 -cursc r -cellw 95% -T"
   ]
  },
  {
   "cell_type": "markdown",
   "metadata": {},
   "source": [
    "## Setup and  API Connection\n",
    "\n",
    "Refer to the [OpenAI](https://beta.openai.com/docs/api-reference/completions/create?lang=python) API reference documentation."
   ]
  },
  {
   "cell_type": "code",
   "execution_count": null,
   "metadata": {},
   "outputs": [],
   "source": [
    "import openai"
   ]
  },
  {
   "cell_type": "code",
   "execution_count": null,
   "metadata": {},
   "outputs": [],
   "source": [
    "## Get and set an API key after making an account on the OpenAI website\n",
    "API_KEY = ..."
   ]
  },
  {
   "cell_type": "code",
   "execution_count": null,
   "metadata": {},
   "outputs": [],
   "source": [
    "openai.api_key = API_KEY"
   ]
  },
  {
   "cell_type": "markdown",
   "metadata": {},
   "source": [
    "## Intro Example"
   ]
  },
  {
   "cell_type": "code",
   "execution_count": null,
   "metadata": {},
   "outputs": [],
   "source": [
    "prompt = \"write a tagline for an icecream shop\"\n",
    "\n",
    "response = openai.Completion.create(\n",
    "  model=\"text-davinci-002\",\n",
    "  prompt=prompt,\n",
    "  temperature=0.7,\n",
    "  max_tokens=256,\n",
    "  top_p=1,\n",
    "  frequency_penalty=0,\n",
    "  presence_penalty=0\n",
    ")\n",
    "\n",
    "print(response)"
   ]
  },
  {
   "cell_type": "code",
   "execution_count": null,
   "metadata": {},
   "outputs": [],
   "source": [
    "response_text = response[\"choices\"][0][\"text\"]\n",
    "print(response_text.strip())"
   ]
  },
  {
   "cell_type": "markdown",
   "metadata": {},
   "source": [
    "## Automating Lyric Generation \n",
    "\n",
    "Input format: \"Write a rap{ like **artist**}{ about **topic**}{, **x_bars** bars:\\n}{\\n**sample_lyrics**}\"<br>\n",
    "\n",
    "### Input parameters:\n",
    "- **artist** : rap artist of choice, default: False\n",
    "- **topic** : topic of choice, default: False\n",
    "- **x_bars** : number of bars, default: False\n",
    "- **sample_lyrics** : sample lyrics for artist with a \\n before the first line\n",
    "\n",
    "### Request parameters:\n",
    " - **model** :  NLP model, default: \"text-davinci-002\"\n",
    " - **temperature** : measure of riskyness/creativity, from [0.0,1.0], default: 0.7\n",
    " - **max_tokens** : maximum tokens per model output, default: 256\n",
    " - **top_p** : nucleus sampling parameter that only takes tokens with top p% probability mass, from [0.0,1.0], default: 1.0\n",
    " - **frequency_penalty** : positive values decrease likelyhood of repetition in outputs, from [-2.0,2.0], default: 0.75\n",
    " - **presence_penalty** : positive values increace likelyhood of talking about new topics, from, [-2.0,2.0], default: 0.4"
   ]
  },
  {
   "cell_type": "code",
   "execution_count": null,
   "metadata": {},
   "outputs": [],
   "source": [
    "def gen_output(artist=False, topic=False, x_bars=False, sample_lyrics=False, \n",
    "               custom_prompt=False, model=\"text-davinci-002\", temperature=0.7, \n",
    "               max_tokens=256, top_p=1.0, frequency_penalty=0.75, presence_penalty=0.4):\n",
    "    \"\"\"\n",
    "    creates prompt given input parameters\n",
    "    returns output string given prompt and response parameters\n",
    "    \"\"\"\n",
    "    prompt=\"Write a rap\"\n",
    "    if artist:\n",
    "        prompt += f\" like {artist}\"\n",
    "    if topic:\n",
    "        prompt += f\" about {topic}\"\n",
    "    if x_bars:\n",
    "        prompt += f\", {x_bars} bars:\\n\"\n",
    "    if sample_lyrics:\n",
    "        prompt += sample_lyrics\n",
    "    if custom_prompt:\n",
    "        prompt = custom_prompt\n",
    "        \n",
    "    response = openai.Completion.create(\n",
    "      model=model,\n",
    "      prompt=prompt,\n",
    "      temperature=temperature,\n",
    "      max_tokens=max_tokens,\n",
    "      top_p=top_p,\n",
    "      frequency_penalty=frequency_penalty,\n",
    "      presence_penalty=presence_penalty\n",
    "    )  \n",
    "    \n",
    "    return response[\"choices\"][0][\"text\"].strip()"
   ]
  },
  {
   "cell_type": "code",
   "execution_count": null,
   "metadata": {},
   "outputs": [],
   "source": [
    "# Input Parameters\n",
    "artist = \"Kanye West\"\n",
    "topic = \"education\"\n",
    "x_bars = 8\n",
    "sample_lyrics = \"\"\"\n",
    "Man, I promise, she's so self-conscious\n",
    "She has no idea what she doin' in college\n",
    "That major that she majored in don't make no money\n",
    "But she won't drop out, her parents'll look at her funny\n",
    "Now, tell me that ain't insecure\n",
    "The concept of school seems so secure\n",
    "\"\"\" # lyrics from All Falls Down by Kanye West"
   ]
  },
  {
   "cell_type": "code",
   "execution_count": null,
   "metadata": {},
   "outputs": [],
   "source": [
    "print(gen_lyrics(artist=artist, topic=topic, \n",
    "           x_bars=x_bars, sample_lyrics=sample_lyrics))"
   ]
  },
  {
   "cell_type": "markdown",
   "metadata": {},
   "source": [
    "### Sample use case: multiple runs"
   ]
  },
  {
   "cell_type": "code",
   "execution_count": null,
   "metadata": {},
   "outputs": [],
   "source": [
    "num_iters = 3\n",
    "outputs = []\n",
    "\n",
    "for i in range(num_iters):\n",
    "    response = gen_lyrics(artist=artist, topic=topic, \n",
    "                          x_bars=x_bars, sample_lyrics=sample_lyrics)\n",
    "    outputs.append(response)\n",
    "\n",
    "for output in outputs:\n",
    "    print(output)"
   ]
  },
  {
   "cell_type": "markdown",
   "metadata": {},
   "source": [
    "### Sample use case: multiple runs with varying parameters"
   ]
  },
  {
   "cell_type": "code",
   "execution_count": null,
   "metadata": {},
   "outputs": [],
   "source": [
    "# Input Parameters\n",
    "artist = \"Kanye West\"\n",
    "x_bars = 4\n",
    "sample_lyrics = \"\"\"\n",
    "Getting choked by detectives, yeah, yeah, now check the method\n",
    "They be askin' us questions, harass and arrest us\n",
    "Sayin' \"We eat pieces of shit like you for breakfast\"\n",
    "Huh? Y'all eat pieces of shit? What's the basis?\n",
    "We ain't going nowhere but got suits and cases\n",
    "A trunk full of coke, rental car from Avis\n",
    "My mama used to say only Jesus can save us\n",
    "Well mama I know I act a fool\n",
    "But I'll be gone 'til November, I got packs to move\n",
    "\"\"\" # lyrics from Jesus Walks by Kanye West"
   ]
  },
  {
   "cell_type": "code",
   "execution_count": null,
   "metadata": {},
   "outputs": [],
   "source": [
    "temp_params = [0.7, 0.8, 0.9]\n",
    "num_iters = 2\n",
    "outputs = []\n",
    "\n",
    "for temp in temp_params:\n",
    "    for i in range(num_iters):\n",
    "        response = gen_lyrics(artist=artist, x_bars=x_bars, \n",
    "                              sample_lyrics=sample_lyrics,\n",
    "                              temperature=temp)\n",
    "        outputs.append(response)\n",
    "\n",
    "for output in outputs:\n",
    "    print(output)"
   ]
  },
  {
   "cell_type": "code",
   "execution_count": null,
   "metadata": {},
   "outputs": [],
   "source": [
    "## general experimentation"
   ]
  },
  {
   "cell_type": "code",
   "execution_count": null,
   "metadata": {},
   "outputs": [],
   "source": []
  }
 ],
 "metadata": {
  "kernelspec": {
   "display_name": "Python 3",
   "language": "python",
   "name": "python3"
  },
  "language_info": {
   "codemirror_mode": {
    "name": "ipython",
    "version": 3
   },
   "file_extension": ".py",
   "mimetype": "text/x-python",
   "name": "python",
   "nbconvert_exporter": "python",
   "pygments_lexer": "ipython3",
   "version": "3.8.3"
  }
 },
 "nbformat": 4,
 "nbformat_minor": 4
}
